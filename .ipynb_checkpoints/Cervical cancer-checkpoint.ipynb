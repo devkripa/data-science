{
 "cells": [
  {
   "cell_type": "code",
   "execution_count": 1,
   "metadata": {},
   "outputs": [],
   "source": [
    "import pandas as pd\n",
    "import numpy as np\n",
    "import matplotlib.pyplot as plot"
   ]
  },
  {
   "cell_type": "code",
   "execution_count": 2,
   "metadata": {},
   "outputs": [],
   "source": [
    "target_url = (\"https://archive.ics.uci.edu/ml/machine-learning-databases/00383/risk_factors_cervical_cancer.csv\")"
   ]
  },
  {
   "cell_type": "code",
   "execution_count": 5,
   "metadata": {},
   "outputs": [
    {
     "name": "stdout",
     "output_type": "stream",
     "text": [
      "   Age Number of sexual partners First sexual intercourse Num of pregnancies  \\\n",
      "0   18                       4.0                     15.0                1.0   \n",
      "1   15                       1.0                     14.0                1.0   \n",
      "2   34                       1.0                        ?                1.0   \n",
      "3   52                       5.0                     16.0                4.0   \n",
      "4   46                       3.0                     21.0                4.0   \n",
      "\n",
      "  Smokes Smokes (years) Smokes (packs/year) Hormonal Contraceptives  \\\n",
      "0    0.0            0.0                 0.0                     0.0   \n",
      "1    0.0            0.0                 0.0                     0.0   \n",
      "2    0.0            0.0                 0.0                     0.0   \n",
      "3    1.0           37.0                37.0                     1.0   \n",
      "4    0.0            0.0                 0.0                     1.0   \n",
      "\n",
      "  Hormonal Contraceptives (years)  IUD  ...    \\\n",
      "0                             0.0  0.0  ...     \n",
      "1                             0.0  0.0  ...     \n",
      "2                             0.0  0.0  ...     \n",
      "3                             3.0  0.0  ...     \n",
      "4                            15.0  0.0  ...     \n",
      "\n",
      "  STDs: Time since first diagnosis STDs: Time since last diagnosis Dx:Cancer  \\\n",
      "0                                ?                               ?         0   \n",
      "1                                ?                               ?         0   \n",
      "2                                ?                               ?         0   \n",
      "3                                ?                               ?         1   \n",
      "4                                ?                               ?         0   \n",
      "\n",
      "  Dx:CIN Dx:HPV Dx Hinselmann Schiller Citology Biopsy  \n",
      "0      0      0  0          0        0        0      0  \n",
      "1      0      0  0          0        0        0      0  \n",
      "2      0      0  0          0        0        0      0  \n",
      "3      0      1  0          0        0        0      0  \n",
      "4      0      0  0          0        0        0      0  \n",
      "\n",
      "[5 rows x 36 columns]\n",
      "     Age Number of sexual partners First sexual intercourse  \\\n",
      "853   34                       3.0                     18.0   \n",
      "854   32                       2.0                     19.0   \n",
      "855   25                       2.0                     17.0   \n",
      "856   33                       2.0                     24.0   \n",
      "857   29                       2.0                     20.0   \n",
      "\n",
      "    Num of pregnancies Smokes Smokes (years) Smokes (packs/year)  \\\n",
      "853                0.0    0.0            0.0                 0.0   \n",
      "854                1.0    0.0            0.0                 0.0   \n",
      "855                0.0    0.0            0.0                 0.0   \n",
      "856                2.0    0.0            0.0                 0.0   \n",
      "857                1.0    0.0            0.0                 0.0   \n",
      "\n",
      "    Hormonal Contraceptives Hormonal Contraceptives (years)  IUD  ...    \\\n",
      "853                     0.0                             0.0  0.0  ...     \n",
      "854                     1.0                             8.0  0.0  ...     \n",
      "855                     1.0                            0.08  0.0  ...     \n",
      "856                     1.0                            0.08  0.0  ...     \n",
      "857                     1.0                             0.5  0.0  ...     \n",
      "\n",
      "    STDs: Time since first diagnosis STDs: Time since last diagnosis  \\\n",
      "853                                ?                               ?   \n",
      "854                                ?                               ?   \n",
      "855                                ?                               ?   \n",
      "856                                ?                               ?   \n",
      "857                                ?                               ?   \n",
      "\n",
      "    Dx:Cancer Dx:CIN Dx:HPV Dx Hinselmann Schiller Citology Biopsy  \n",
      "853         0      0      0  0          0        0        0      0  \n",
      "854         0      0      0  0          0        0        0      0  \n",
      "855         0      0      0  0          0        0        1      0  \n",
      "856         0      0      0  0          0        0        0      0  \n",
      "857         0      0      0  0          0        0        0      0  \n",
      "\n",
      "[5 rows x 36 columns]\n"
     ]
    }
   ],
   "source": [
    "# read cervical cancer data into pandas data frame\n",
    "df = pd.read_csv(target_url)\n",
    "\n",
    "print(df.head())\n",
    "print(df.tail())"
   ]
  },
  {
   "cell_type": "code",
   "execution_count": 6,
   "metadata": {},
   "outputs": [
    {
     "data": {
      "text/plain": [
       "False"
      ]
     },
     "execution_count": 6,
     "metadata": {},
     "output_type": "execute_result"
    }
   ],
   "source": [
    "# perform some data validations\n",
    "\n",
    "# lets check for null values in the heart disease data set\n",
    "df.isnull().values.any()"
   ]
  },
  {
   "cell_type": "code",
   "execution_count": 7,
   "metadata": {},
   "outputs": [
    {
     "data": {
      "text/plain": [
       "Age                                    int64\n",
       "Number of sexual partners             object\n",
       "First sexual intercourse              object\n",
       "Num of pregnancies                    object\n",
       "Smokes                                object\n",
       "Smokes (years)                        object\n",
       "Smokes (packs/year)                   object\n",
       "Hormonal Contraceptives               object\n",
       "Hormonal Contraceptives (years)       object\n",
       "IUD                                   object\n",
       "IUD (years)                           object\n",
       "STDs                                  object\n",
       "STDs (number)                         object\n",
       "STDs:condylomatosis                   object\n",
       "STDs:cervical condylomatosis          object\n",
       "STDs:vaginal condylomatosis           object\n",
       "STDs:vulvo-perineal condylomatosis    object\n",
       "STDs:syphilis                         object\n",
       "STDs:pelvic inflammatory disease      object\n",
       "STDs:genital herpes                   object\n",
       "STDs:molluscum contagiosum            object\n",
       "STDs:AIDS                             object\n",
       "STDs:HIV                              object\n",
       "STDs:Hepatitis B                      object\n",
       "STDs:HPV                              object\n",
       "STDs: Number of diagnosis              int64\n",
       "STDs: Time since first diagnosis      object\n",
       "STDs: Time since last diagnosis       object\n",
       "Dx:Cancer                              int64\n",
       "Dx:CIN                                 int64\n",
       "Dx:HPV                                 int64\n",
       "Dx                                     int64\n",
       "Hinselmann                             int64\n",
       "Schiller                               int64\n",
       "Citology                               int64\n",
       "Biopsy                                 int64\n",
       "dtype: object"
      ]
     },
     "execution_count": 7,
     "metadata": {},
     "output_type": "execute_result"
    }
   ],
   "source": [
    "# find dtypes for columns, all columns should be integers\n",
    "df.dtypes"
   ]
  },
  {
   "cell_type": "code",
   "execution_count": 10,
   "metadata": {},
   "outputs": [],
   "source": [
    "# there seem to be many columns with missing values\n",
    "\n",
    "df['Number of sexual partners'] = pd.to_numeric(df['Number of sexual partners'], errors='coerce')\n",
    "df['First sexual intercourse'] = pd.to_numeric(df['First sexual intercourse'], errors='coerce')\n",
    "df['Num of pregnancies'] = pd.to_numeric(df['Num of pregnancies'], errors='coerce')\n",
    "df['Smokes'] = pd.to_numeric(df['Smokes'], errors='coerce')\n",
    "df['Smokes (years)'] = pd.to_numeric(df['Smokes (years)'], errors='coerce')\n",
    "df['Smokes (packs/year)'] = pd.to_numeric(df['Smokes (packs/year)'], errors='coerce')\n",
    "df['Hormonal Contraceptives'] = pd.to_numeric(df['Hormonal Contraceptives'], errors='coerce')\n",
    "df['Hormonal Contraceptives (years)'] = pd.to_numeric(df['Hormonal Contraceptives (years)'], errors='coerce')\n",
    "df['IUD'] = pd.to_numeric(df['IUD'], errors='coerce')\n",
    "df['IUD (years)'] = pd.to_numeric(df['IUD (years)'], errors='coerce')\n",
    "df['STDs'] = pd.to_numeric(df['STDs'], errors='coerce')\n",
    "\n",
    "df['STDs (number)'] = pd.to_numeric(df['STDs (number)'], errors='coerce')\n",
    "df['STDs:condylomatosis'] = pd.to_numeric(df['STDs:condylomatosis'], errors='coerce')\n",
    "df['STDs:cervical condylomatosis'] = pd.to_numeric(df['STDs:cervical condylomatosis'], errors='coerce')\n",
    "df['STDs:vaginal condylomatosis'] = pd.to_numeric(df['STDs:vaginal condylomatosis'], errors='coerce')\n",
    "df['STDs:vulvo-perineal condylomatosis'] = pd.to_numeric(df['STDs:vulvo-perineal condylomatosis'], errors='coerce')\n",
    "df['STDs:syphilis'] = pd.to_numeric(df['STDs:syphilis'], errors='coerce')\n",
    "df['STDs:pelvic inflammatory disease'] = pd.to_numeric(df['STDs:pelvic inflammatory disease'], errors='coerce')\n",
    "\n",
    "df['STDs:genital herpes'] = pd.to_numeric(df['STDs:genital herpes'], errors='coerce')\n",
    "df['STDs:molluscum contagiosum'] = pd.to_numeric(df['STDs:molluscum contagiosum'], errors='coerce')\n",
    "df['STDs:AIDS'] = pd.to_numeric(df['STDs:AIDS'], errors='coerce')\n",
    "df['STDs:HIV'] = pd.to_numeric(df['STDs:HIV'], errors='coerce')\n",
    "df['STDs:Hepatitis B'] = pd.to_numeric(df['STDs:Hepatitis B'], errors='coerce')\n",
    "df['STDs:HPV'] = pd.to_numeric(df['STDs:HPV'], errors='coerce')\n",
    "\n",
    "df['STDs: Time since first diagnosis'] = pd.to_numeric(df['STDs: Time since first diagnosis'], errors='coerce')\n",
    "df['STDs: Time since last diagnosis'] = pd.to_numeric(df['STDs: Time since last diagnosis'], errors='coerce')\n"
   ]
  },
  {
   "cell_type": "code",
   "execution_count": 11,
   "metadata": {},
   "outputs": [],
   "source": [
    "# replace the NaN values with the mean/median value of the column\n",
    "df['Number of sexual partners'] = df['Number of sexual partners'].fillna(df['Number of sexual partners'].median())\n",
    "df['First sexual intercourse'] = df['First sexual intercourse'].fillna(df['First sexual intercourse'].median())\n",
    "\n",
    "df['Num of pregnancies'] = df['Num of pregnancies'].fillna(df['Num of pregnancies'].median())\n",
    "\n"
   ]
  },
  {
   "cell_type": "code",
   "execution_count": null,
   "metadata": {},
   "outputs": [],
   "source": []
  }
 ],
 "metadata": {
  "kernelspec": {
   "display_name": "Python 3",
   "language": "python",
   "name": "python3"
  },
  "language_info": {
   "codemirror_mode": {
    "name": "ipython",
    "version": 3
   },
   "file_extension": ".py",
   "mimetype": "text/x-python",
   "name": "python",
   "nbconvert_exporter": "python",
   "pygments_lexer": "ipython3",
   "version": "3.7.1"
  }
 },
 "nbformat": 4,
 "nbformat_minor": 2
}
